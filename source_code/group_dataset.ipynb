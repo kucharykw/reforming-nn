{
 "cells": [
  {
   "cell_type": "code",
   "execution_count": 1,
   "metadata": {},
   "outputs": [],
   "source": [
    "import pandas as pd\n",
    "import numpy as np\n",
    "from sklearn.preprocessing import StandardScaler\n",
    "import os\n",
    "from pathlib import Path\n",
    "import matplotlib.pyplot as plt"
   ]
  },
  {
   "cell_type": "code",
   "execution_count": 2,
   "metadata": {},
   "outputs": [
    {
     "data": {
      "text/html": [
       "<div>\n",
       "<style scoped>\n",
       "    .dataframe tbody tr th:only-of-type {\n",
       "        vertical-align: middle;\n",
       "    }\n",
       "\n",
       "    .dataframe tbody tr th {\n",
       "        vertical-align: top;\n",
       "    }\n",
       "\n",
       "    .dataframe thead th {\n",
       "        text-align: right;\n",
       "    }\n",
       "</style>\n",
       "<table border=\"1\" class=\"dataframe\">\n",
       "  <thead>\n",
       "    <tr style=\"text-align: right;\">\n",
       "      <th></th>\n",
       "      <th>ch4_flow</th>\n",
       "      <th>t_center</th>\n",
       "      <th>nc</th>\n",
       "      <th>sc</th>\n",
       "      <th>m_Ni</th>\n",
       "      <th>ch4</th>\n",
       "      <th>h2</th>\n",
       "      <th>co2</th>\n",
       "      <th>co</th>\n",
       "    </tr>\n",
       "  </thead>\n",
       "  <tbody>\n",
       "    <tr>\n",
       "      <th>0</th>\n",
       "      <td>50.0</td>\n",
       "      <td>600</td>\n",
       "      <td>3.0</td>\n",
       "      <td>3.0</td>\n",
       "      <td>0.174717</td>\n",
       "      <td>0.171</td>\n",
       "      <td>0.650</td>\n",
       "      <td>0.120</td>\n",
       "      <td>0.060</td>\n",
       "    </tr>\n",
       "    <tr>\n",
       "      <th>1</th>\n",
       "      <td>50.0</td>\n",
       "      <td>625</td>\n",
       "      <td>3.0</td>\n",
       "      <td>3.0</td>\n",
       "      <td>0.174717</td>\n",
       "      <td>0.135</td>\n",
       "      <td>0.674</td>\n",
       "      <td>0.115</td>\n",
       "      <td>0.077</td>\n",
       "    </tr>\n",
       "    <tr>\n",
       "      <th>2</th>\n",
       "      <td>35.0</td>\n",
       "      <td>625</td>\n",
       "      <td>4.0</td>\n",
       "      <td>5.0</td>\n",
       "      <td>0.174717</td>\n",
       "      <td>0.081</td>\n",
       "      <td>0.719</td>\n",
       "      <td>0.137</td>\n",
       "      <td>0.063</td>\n",
       "    </tr>\n",
       "    <tr>\n",
       "      <th>3</th>\n",
       "      <td>47.0</td>\n",
       "      <td>625</td>\n",
       "      <td>0.5</td>\n",
       "      <td>6.0</td>\n",
       "      <td>0.174717</td>\n",
       "      <td>0.100</td>\n",
       "      <td>0.704</td>\n",
       "      <td>0.151</td>\n",
       "      <td>0.045</td>\n",
       "    </tr>\n",
       "    <tr>\n",
       "      <th>4</th>\n",
       "      <td>50.0</td>\n",
       "      <td>625</td>\n",
       "      <td>2.0</td>\n",
       "      <td>4.0</td>\n",
       "      <td>0.174717</td>\n",
       "      <td>0.131</td>\n",
       "      <td>0.678</td>\n",
       "      <td>0.134</td>\n",
       "      <td>0.057</td>\n",
       "    </tr>\n",
       "  </tbody>\n",
       "</table>\n",
       "</div>"
      ],
      "text/plain": [
       "   ch4_flow  t_center   nc   sc      m_Ni    ch4     h2    co2     co\n",
       "0      50.0       600  3.0  3.0  0.174717  0.171  0.650  0.120  0.060\n",
       "1      50.0       625  3.0  3.0  0.174717  0.135  0.674  0.115  0.077\n",
       "2      35.0       625  4.0  5.0  0.174717  0.081  0.719  0.137  0.063\n",
       "3      47.0       625  0.5  6.0  0.174717  0.100  0.704  0.151  0.045\n",
       "4      50.0       625  2.0  4.0  0.174717  0.131  0.678  0.134  0.057"
      ]
     },
     "execution_count": 2,
     "metadata": {},
     "output_type": "execute_result"
    }
   ],
   "source": [
    "data_dir = \"../experimental_data/\"\n",
    "dataset_file = \"data_v2.csv\"\n",
    "dataset = pd.read_csv(os.path.join(data_dir, dataset_file), sep=\";\")\n",
    "dataset.head()"
   ]
  },
  {
   "cell_type": "code",
   "execution_count": 3,
   "metadata": {},
   "outputs": [],
   "source": [
    "def check_for_percentage_values(dataframe):\n",
    "    \"\"\"Returns True if any output values in a dataframe are represented as percantage, returns False otherwise.\"\"\"\n",
    "    return (((dataframe.loc[:, 'ch4':].sum(axis=1) > 1.01) | (dataframe.loc[:, 'ch4':].sum(axis=1) < 0.99)).any())\n",
    "\n",
    "def scale_percentage_values(dataframe):\n",
    "    \"\"\"Divides the output part by 100 where values are represented as percentage.\"\"\"\n",
    "    ar = dataframe.values\n",
    "    col = dataframe.columns\n",
    "    ar[:, 5:][ar[:, 5:].sum(axis=1) > 2] = ar[:, 5:][ar[:, 5:].sum(axis=1) > 2] / 100\n",
    "    return pd.DataFrame(ar, columns=col)"
   ]
  },
  {
   "cell_type": "code",
   "execution_count": 4,
   "metadata": {
    "scrolled": true
   },
   "outputs": [
    {
     "name": "stdout",
     "output_type": "stream",
     "text": [
      "False\n"
     ]
    }
   ],
   "source": [
    "dataset = scale_percentage_values(dataset)\n",
    "print(check_for_percentage_values(dataset))"
   ]
  },
  {
   "cell_type": "code",
   "execution_count": 5,
   "metadata": {},
   "outputs": [],
   "source": [
    "grouped =  dataset.groupby(['ch4_flow', 't_center', 'nc', 'sc', 'm_Ni'], sort=False)\n",
    "data_mean = grouped.mean()\n",
    "data_median = grouped.median()"
   ]
  },
  {
   "cell_type": "code",
   "execution_count": 6,
   "metadata": {},
   "outputs": [],
   "source": [
    "# Transform multiindex back into columns\n",
    "data_mean.reset_index(drop=False, inplace=True)\n",
    "data_median.reset_index(drop=False, inplace=True)"
   ]
  },
  {
   "cell_type": "code",
   "execution_count": 7,
   "metadata": {},
   "outputs": [],
   "source": [
    "# Save to file\n",
    "data_mean.to_csv(os.path.join(data_dir, \"data_mean.csv\"), index=False)\n",
    "data_median.to_csv(os.path.join(data_dir,\"data_median.csv\"), index=False)"
   ]
  }
 ],
 "metadata": {
  "kernelspec": {
   "display_name": "Python 3",
   "language": "python",
   "name": "python3"
  },
  "language_info": {
   "codemirror_mode": {
    "name": "ipython",
    "version": 3
   },
   "file_extension": ".py",
   "mimetype": "text/x-python",
   "name": "python",
   "nbconvert_exporter": "python",
   "pygments_lexer": "ipython3",
   "version": "3.6.10"
  }
 },
 "nbformat": 4,
 "nbformat_minor": 2
}
