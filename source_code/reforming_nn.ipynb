{
 "cells": [
  {
   "cell_type": "raw",
   "metadata": {},
   "source": [
    "A neural network aiming to model steam-methane reforming process.\n",
    "Requires 5 input values, returns dry gas composition by chemical compounds - CH4, H2, CO2 and CO."
   ]
  },
  {
   "cell_type": "code",
   "execution_count": 1,
   "metadata": {},
   "outputs": [],
   "source": [
    "import warnings\n",
    "warnings.filterwarnings(\"ignore\")\n",
    "import os\n",
    "os.environ[\"CUDA_VISIBLE_DEVICES\"] = \"-1\"  # disable GPU usage\n",
    "\n",
    "import pandas as pd\n",
    "import numpy as np\n",
    "import matplotlib.pyplot as plt\n",
    "import tensorflow as tf\n",
    "from tensorflow import keras\n",
    "from tensorflow.keras.models import Sequential\n",
    "from tensorflow.keras.layers import Dense, Activation\n",
    "from tensorflow.keras.callbacks import EarlyStopping\n",
    "from sklearn.model_selection import train_test_split, KFold\n",
    "from sklearn.utils.multiclass import type_of_target\n",
    "from sklearn.preprocessing import MinMaxScaler\n",
    "import pickle\n",
    "from sklearn.externals import joblib\n",
    "from math import isclose\n",
    "import os.path\n",
    "%matplotlib inline"
   ]
  },
  {
   "cell_type": "markdown",
   "metadata": {},
   "source": [
    "# Training on mean values"
   ]
  },
  {
   "cell_type": "code",
   "execution_count": 2,
   "metadata": {
    "scrolled": true
   },
   "outputs": [
    {
     "data": {
      "text/html": [
       "<div>\n",
       "<style scoped>\n",
       "    .dataframe tbody tr th:only-of-type {\n",
       "        vertical-align: middle;\n",
       "    }\n",
       "\n",
       "    .dataframe tbody tr th {\n",
       "        vertical-align: top;\n",
       "    }\n",
       "\n",
       "    .dataframe thead th {\n",
       "        text-align: right;\n",
       "    }\n",
       "</style>\n",
       "<table border=\"1\" class=\"dataframe\">\n",
       "  <thead>\n",
       "    <tr style=\"text-align: right;\">\n",
       "      <th></th>\n",
       "      <th>ch4_flow</th>\n",
       "      <th>t_center</th>\n",
       "      <th>nc</th>\n",
       "      <th>sc</th>\n",
       "      <th>m_Ni</th>\n",
       "      <th>ch4</th>\n",
       "      <th>h2</th>\n",
       "      <th>co2</th>\n",
       "      <th>co</th>\n",
       "    </tr>\n",
       "  </thead>\n",
       "  <tbody>\n",
       "    <tr>\n",
       "      <th>0</th>\n",
       "      <td>50.0</td>\n",
       "      <td>600.0</td>\n",
       "      <td>3.0</td>\n",
       "      <td>3.0</td>\n",
       "      <td>0.174717</td>\n",
       "      <td>0.222502</td>\n",
       "      <td>0.610076</td>\n",
       "      <td>0.106240</td>\n",
       "      <td>0.061156</td>\n",
       "    </tr>\n",
       "    <tr>\n",
       "      <th>1</th>\n",
       "      <td>50.0</td>\n",
       "      <td>625.0</td>\n",
       "      <td>3.0</td>\n",
       "      <td>3.0</td>\n",
       "      <td>0.174717</td>\n",
       "      <td>0.181560</td>\n",
       "      <td>0.640715</td>\n",
       "      <td>0.103638</td>\n",
       "      <td>0.074178</td>\n",
       "    </tr>\n",
       "    <tr>\n",
       "      <th>2</th>\n",
       "      <td>35.0</td>\n",
       "      <td>625.0</td>\n",
       "      <td>4.0</td>\n",
       "      <td>5.0</td>\n",
       "      <td>0.174717</td>\n",
       "      <td>0.127106</td>\n",
       "      <td>0.684178</td>\n",
       "      <td>0.118278</td>\n",
       "      <td>0.070438</td>\n",
       "    </tr>\n",
       "    <tr>\n",
       "      <th>3</th>\n",
       "      <td>47.0</td>\n",
       "      <td>625.0</td>\n",
       "      <td>0.5</td>\n",
       "      <td>6.0</td>\n",
       "      <td>0.174717</td>\n",
       "      <td>0.137173</td>\n",
       "      <td>0.676770</td>\n",
       "      <td>0.132200</td>\n",
       "      <td>0.053858</td>\n",
       "    </tr>\n",
       "    <tr>\n",
       "      <th>4</th>\n",
       "      <td>50.0</td>\n",
       "      <td>625.0</td>\n",
       "      <td>2.0</td>\n",
       "      <td>4.0</td>\n",
       "      <td>0.174717</td>\n",
       "      <td>0.167882</td>\n",
       "      <td>0.652580</td>\n",
       "      <td>0.116762</td>\n",
       "      <td>0.062776</td>\n",
       "    </tr>\n",
       "  </tbody>\n",
       "</table>\n",
       "</div>"
      ],
      "text/plain": [
       "   ch4_flow  t_center   nc   sc      m_Ni       ch4        h2       co2  \\\n",
       "0      50.0     600.0  3.0  3.0  0.174717  0.222502  0.610076  0.106240   \n",
       "1      50.0     625.0  3.0  3.0  0.174717  0.181560  0.640715  0.103638   \n",
       "2      35.0     625.0  4.0  5.0  0.174717  0.127106  0.684178  0.118278   \n",
       "3      47.0     625.0  0.5  6.0  0.174717  0.137173  0.676770  0.132200   \n",
       "4      50.0     625.0  2.0  4.0  0.174717  0.167882  0.652580  0.116762   \n",
       "\n",
       "         co  \n",
       "0  0.061156  \n",
       "1  0.074178  \n",
       "2  0.070438  \n",
       "3  0.053858  \n",
       "4  0.062776  "
      ]
     },
     "execution_count": 2,
     "metadata": {},
     "output_type": "execute_result"
    }
   ],
   "source": [
    "# Read data\n",
    "filepath_mean = \"../experimental_data/data_mean.csv\"\n",
    "dataset = pd.read_csv(filepath_mean, sep=\",\")\n",
    "dataset.head()"
   ]
  },
  {
   "cell_type": "code",
   "execution_count": 3,
   "metadata": {},
   "outputs": [],
   "source": [
    "X = dataset.loc[:, :\"m_Ni\"].values\n",
    "Y = dataset.loc[:, \"ch4\":].values\n",
    "\n",
    "# Scale data \n",
    "scaler = MinMaxScaler()\n",
    "X = scaler.fit_transform(X)\n",
    "\n",
    "X_train, X_test, Y_train, Y_test = train_test_split(X, Y, train_size=0.8, random_state=0)"
   ]
  },
  {
   "cell_type": "code",
   "execution_count": 4,
   "metadata": {},
   "outputs": [],
   "source": [
    "# Save scaler to file\n",
    "# scaler_filename = \"mean_scaler_temp.save\"\n",
    "# joblib.dump(scaler, scaler_filename)"
   ]
  },
  {
   "cell_type": "code",
   "execution_count": 5,
   "metadata": {},
   "outputs": [
    {
     "name": "stdout",
     "output_type": "stream",
     "text": [
      "WARNING:tensorflow:From /home/wojtek/anaconda3/envs/gpu/lib/python3.6/site-packages/tensorflow/python/ops/init_ops.py:1251: calling VarianceScaling.__init__ (from tensorflow.python.ops.init_ops) with dtype is deprecated and will be removed in a future version.\n",
      "Instructions for updating:\n",
      "Call initializer instance with the dtype argument instead of passing it to the constructor\n"
     ]
    }
   ],
   "source": [
    "model_name = \"network_mean\"\n",
    "optimizer = keras.optimizers.RMSprop(learning_rate=0.001)\n",
    "# early_stopping_monitor = EarlyStopping(patience=10)\n",
    "loss = \"mae\"\n",
    "metrics = [\"mape\"]\n",
    "epochs = 5000\n",
    "\n",
    "network = Sequential([\n",
    "    Dense(25, activation=tf.nn.relu, input_shape=(5,)),\n",
    "    Dense(20, activation=tf.nn.relu),\n",
    "    Dense(15, activation=tf.nn.relu),\n",
    "    Dense(10, activation=tf.nn.relu),\n",
    "    Dense( 4, activation=tf.nn.sigmoid)\n",
    "])\n",
    "\n",
    "network.compile(loss=loss, optimizer=optimizer, metrics=metrics)\n",
    "hist = network.fit(X_train, Y_train, batch_size=X_train.shape[0], epochs=epochs, verbose=0,\n",
    "                 validation_data=(X_test, Y_test), shuffle=False)"
   ]
  },
  {
   "cell_type": "code",
   "execution_count": 6,
   "metadata": {},
   "outputs": [],
   "source": [
    "# Save network model to file\n",
    "# network.save(\"{}_model.h5\".format(model_name))\n",
    "\n",
    "# Save train history to file\n",
    "# with open(\"{}_trainHistoryDict.pickle\".format(model_name), \"wb\") as file_obj:\n",
    "#     pickle.dump(hist.history, file_obj)"
   ]
  },
  {
   "cell_type": "code",
   "execution_count": 7,
   "metadata": {
    "scrolled": true
   },
   "outputs": [
    {
     "data": {
      "image/png": "[encoded data removed]",
      "text/plain": [
       "<Figure size 432x288 with 1 Axes>"
      ]
     },
     "metadata": {
      "needs_background": "light"
     },
     "output_type": "display_data"
    }
   ],
   "source": [
    "# Plot training & validation loss values\n",
    "plt.plot(hist.history['loss'])\n",
    "plt.plot(hist.history['val_loss'])\n",
    "plt.title('Model loss')\n",
    "plt.ylabel('Loss')\n",
    "plt.xlabel('Epoch')\n",
    "plt.legend(['Train', 'Test'], loc='upper right');\n",
    "# plt.savefig(\"{}_learning_curve.png\".format(model_name)"
   ]
  },
  {
   "cell_type": "code",
   "execution_count": 8,
   "metadata": {},
   "outputs": [
    {
     "name": "stdout",
     "output_type": "stream",
     "text": [
      "Mean absolute percentage error (split1): 13.162382125854492%\n",
      "Mean absolute percentage error (split2): 15.52647590637207%\n",
      "Mean absolute percentage error (split3): 19.15827751159668%\n",
      "Mean absolute percentage error (split4): 13.835570335388184%\n",
      "Mean absolute percentage error (split5): 14.449309349060059%\n",
      "\n",
      "Average percentage error and std: 15.226404190063477% (+/- 2.114150047302246%)\n",
      "\n",
      "Mean absolute percentage error for every component:\n",
      "[15.85990109 10.91132473 12.4493181  21.68506758]\n"
     ]
    }
   ],
   "source": [
    "# K-Fold with the same hyperparameters\n",
    "kfold = KFold(n_splits=5, shuffle=True, random_state=0)\n",
    "cvscores = []\n",
    "component_cvscores = []\n",
    "split = 1\n",
    "\n",
    "for train_index, test_index in kfold.split(X, Y):\n",
    "    \n",
    "    network = Sequential([\n",
    "        Dense(25, activation=tf.nn.relu, input_shape=(5,)),\n",
    "        Dense(20, activation=tf.nn.relu),\n",
    "        Dense(15, activation=tf.nn.relu),\n",
    "        Dense(10, activation=tf.nn.relu),\n",
    "        Dense( 4, activation=tf.nn.sigmoid)\n",
    "    ])\n",
    "        \n",
    "    network.compile(loss=loss, optimizer=optimizer, metrics=metrics)\n",
    "    network.fit(X[train_index], Y[train_index], epochs=epochs,\n",
    "              validation_split = 0.0, batch_size=X[train_index].shape[0], shuffle=False, verbose=0)\n",
    "    scores = network.evaluate(X[test_index], Y[test_index], verbose=0)\n",
    "    Y_pred = network.predict(X[test_index])\n",
    "    component_cvscores.append(np.mean(np.absolute(Y_pred - Y[test_index]) / Y[test_index]*100, axis=0))\n",
    "    print(\"Mean absolute percentage error (split{0}): {1}%\".format(split, scores[1]))\n",
    "    cvscores.append(scores[1])\n",
    "    split += 1\n",
    "\n",
    "print(\"\\nAverage percentage error and std: {0}% (+/- {1}%)\".format(np.mean(cvscores), np.std(cvscores))) \n",
    "print(\"\\nMean absolute percentage error for every component:\", np.mean(component_cvscores, axis = 0), sep=\"\\n\")"
   ]
  },
  {
   "cell_type": "markdown",
   "metadata": {},
   "source": [
    "## Continuity check"
   ]
  },
  {
   "cell_type": "code",
   "execution_count": 19,
   "metadata": {},
   "outputs": [],
   "source": [
    "def plot_continuity(df, constants, parameter, model, scaler):\n",
    "    \"\"\"Plot continuity with respect to choosen parameter.\"\"\"\n",
    "    \n",
    "    colors = [\"blue\", \"red\", \"green\", \"orange\"]\n",
    "    labels_exp = [\"CH$_4$ (experiment)\", \"H$_2$ (experiment)\", \"CO$_2$ (experiment)\", \"CO (experiment)\"]\n",
    "    labels_model = [\"CH$_4$ (network)\", \"H$_2$ (network)\", \"CO$_2$ (network)\", \"CO (network)\"]\n",
    "    \n",
    "    if df.shape[0] == 1:\n",
    "        t_min = df[\"t_center\"].min() - 50\n",
    "        t_max = t_min + 100\n",
    "    else:\n",
    "           t_min, t_max = df[\"t_center\"].min(), df[\"t_center\"].max()\n",
    "            \n",
    "    t_dense = np.linspace(t_min, t_max, 200)\n",
    "    \n",
    "    x = df.iloc[0, :5]\n",
    "    X = pd.DataFrame(columns=x.index)\n",
    "    X = X.append([x]*t_dense.size, ignore_index=True)\n",
    "    X[\"t_center\"] = t_dense\n",
    "    X = scaler.transform(X)\n",
    "    y = model.predict(X)\n",
    "    \n",
    "    fig = plt.figure(figsize=(14,10))\n",
    "    ax = plt.axes()\n",
    "    for n, component in enumerate(df.columns[5:]):\n",
    "        ax.scatter(df[parameter], df[component], s=25, color=colors[n], label=labels_exp[n])\n",
    "        ax.plot(t_dense, y[:, n], color=colors[n], label=labels_model[n])\n",
    "    \n",
    "    ax.set_xlabel(r'$T_{\\rm center}$ [K]', fontsize=18)\n",
    "    ax.set_ylabel('Zawartość składnika [-]', fontsize=18)\n",
    "    fig.legend();\n",
    "    plt.close(fig)\n",
    "    \n",
    "    return fig"
   ]
  },
  {
   "cell_type": "code",
   "execution_count": 17,
   "metadata": {},
   "outputs": [],
   "source": [
    "# %%capture\n",
    "constants = [\"ch4_flow\", \"nc\", \"sc\", \"m_Ni\"]\n",
    "parameter = \"t_center\"\n",
    "plots_path = \"../figs/all_continuity_figs/trained_on_mean\"\n",
    "\n",
    "inputs4 = dataset.loc[:, :\"m_Ni\"].drop(parameter, axis=1).drop_duplicates()\n",
    "\n",
    "n_fig = 1\n",
    "for uq_input in inputs4.iterrows():\n",
    "    fig_set = dataset.loc[(dataset.loc[:, :\"m_Ni\"].drop(parameter, axis=1) == uq_input[1]).all(axis=1), :]\n",
    "    path = os.path.join(plots_path, \"continuity_plot{}\".format(n_fig))\n",
    "    plot_continuity(fig_set, constants, parameter, network, scaler).savefig(path)\n",
    "    \n",
    "    n_fig += 1"
   ]
  },
  {
   "cell_type": "markdown",
   "metadata": {},
   "source": [
    "# Training on median values"
   ]
  },
  {
   "cell_type": "code",
   "execution_count": 11,
   "metadata": {},
   "outputs": [
    {
     "data": {
      "text/html": [
       "<div>\n",
       "<style scoped>\n",
       "    .dataframe tbody tr th:only-of-type {\n",
       "        vertical-align: middle;\n",
       "    }\n",
       "\n",
       "    .dataframe tbody tr th {\n",
       "        vertical-align: top;\n",
       "    }\n",
       "\n",
       "    .dataframe thead th {\n",
       "        text-align: right;\n",
       "    }\n",
       "</style>\n",
       "<table border=\"1\" class=\"dataframe\">\n",
       "  <thead>\n",
       "    <tr style=\"text-align: right;\">\n",
       "      <th></th>\n",
       "      <th>ch4_flow</th>\n",
       "      <th>t_center</th>\n",
       "      <th>nc</th>\n",
       "      <th>sc</th>\n",
       "      <th>m_Ni</th>\n",
       "      <th>ch4</th>\n",
       "      <th>h2</th>\n",
       "      <th>co2</th>\n",
       "      <th>co</th>\n",
       "    </tr>\n",
       "  </thead>\n",
       "  <tbody>\n",
       "    <tr>\n",
       "      <th>0</th>\n",
       "      <td>50.0</td>\n",
       "      <td>600.0</td>\n",
       "      <td>3.0</td>\n",
       "      <td>3.0</td>\n",
       "      <td>0.174717</td>\n",
       "      <td>0.203193</td>\n",
       "      <td>0.624000</td>\n",
       "      <td>0.118755</td>\n",
       "      <td>0.055666</td>\n",
       "    </tr>\n",
       "    <tr>\n",
       "      <th>1</th>\n",
       "      <td>50.0</td>\n",
       "      <td>625.0</td>\n",
       "      <td>3.0</td>\n",
       "      <td>3.0</td>\n",
       "      <td>0.174717</td>\n",
       "      <td>0.173317</td>\n",
       "      <td>0.649135</td>\n",
       "      <td>0.114745</td>\n",
       "      <td>0.071690</td>\n",
       "    </tr>\n",
       "    <tr>\n",
       "      <th>2</th>\n",
       "      <td>35.0</td>\n",
       "      <td>625.0</td>\n",
       "      <td>4.0</td>\n",
       "      <td>5.0</td>\n",
       "      <td>0.174717</td>\n",
       "      <td>0.130320</td>\n",
       "      <td>0.680765</td>\n",
       "      <td>0.117609</td>\n",
       "      <td>0.070907</td>\n",
       "    </tr>\n",
       "    <tr>\n",
       "      <th>3</th>\n",
       "      <td>47.0</td>\n",
       "      <td>625.0</td>\n",
       "      <td>0.5</td>\n",
       "      <td>6.0</td>\n",
       "      <td>0.174717</td>\n",
       "      <td>0.137709</td>\n",
       "      <td>0.675302</td>\n",
       "      <td>0.132105</td>\n",
       "      <td>0.053022</td>\n",
       "    </tr>\n",
       "    <tr>\n",
       "      <th>4</th>\n",
       "      <td>50.0</td>\n",
       "      <td>625.0</td>\n",
       "      <td>2.0</td>\n",
       "      <td>4.0</td>\n",
       "      <td>0.174717</td>\n",
       "      <td>0.156592</td>\n",
       "      <td>0.659526</td>\n",
       "      <td>0.130412</td>\n",
       "      <td>0.057000</td>\n",
       "    </tr>\n",
       "  </tbody>\n",
       "</table>\n",
       "</div>"
      ],
      "text/plain": [
       "   ch4_flow  t_center   nc   sc      m_Ni       ch4        h2       co2  \\\n",
       "0      50.0     600.0  3.0  3.0  0.174717  0.203193  0.624000  0.118755   \n",
       "1      50.0     625.0  3.0  3.0  0.174717  0.173317  0.649135  0.114745   \n",
       "2      35.0     625.0  4.0  5.0  0.174717  0.130320  0.680765  0.117609   \n",
       "3      47.0     625.0  0.5  6.0  0.174717  0.137709  0.675302  0.132105   \n",
       "4      50.0     625.0  2.0  4.0  0.174717  0.156592  0.659526  0.130412   \n",
       "\n",
       "         co  \n",
       "0  0.055666  \n",
       "1  0.071690  \n",
       "2  0.070907  \n",
       "3  0.053022  \n",
       "4  0.057000  "
      ]
     },
     "execution_count": 11,
     "metadata": {},
     "output_type": "execute_result"
    }
   ],
   "source": [
    "filepath_median = \"../experimental_data/data_median.csv\"\n",
    "dataset = pd.read_csv(filepath_median, sep=\",\")\n",
    "dataset.head()"
   ]
  },
  {
   "cell_type": "code",
   "execution_count": 12,
   "metadata": {},
   "outputs": [],
   "source": [
    "X = dataset.loc[:, :\"m_Ni\"].values\n",
    "Y = dataset.loc[:, \"ch4\":].values\n",
    "\n",
    "# Scale data \n",
    "scaler = MinMaxScaler()\n",
    "X = scaler.fit_transform(X)\n",
    "\n",
    "X_train, X_test, Y_train, Y_test = train_test_split(X, Y, train_size=0.8, random_state=0)\n"
   ]
  },
  {
   "cell_type": "code",
   "execution_count": 13,
   "metadata": {},
   "outputs": [],
   "source": [
    "# Save scaler to file\n",
    "scaler_filename = \"median_scaler_temp.save\"\n",
    "# joblib.dump(scaler, scaler_filename)"
   ]
  },
  {
   "cell_type": "code",
   "execution_count": 14,
   "metadata": {},
   "outputs": [],
   "source": [
    "model_name = \"network_median\"\n",
    "optimizer = keras.optimizers.RMSprop(learning_rate=0.001)\n",
    "# early_stopping_monitor = EarlyStopping(patience=10)\n",
    "loss = \"mae\"\n",
    "metrics = [\"mape\"]\n",
    "epochs = 5000\n",
    "\n",
    "network = Sequential([\n",
    "    Dense(25, activation=tf.nn.relu, input_shape=(5,)),\n",
    "    Dense(20, activation=tf.nn.relu),\n",
    "    Dense(15, activation=tf.nn.relu),\n",
    "    Dense(10, activation=tf.nn.relu),\n",
    "    Dense( 4, activation=tf.nn.sigmoid)\n",
    "])\n",
    "\n",
    "network.compile(loss=loss, optimizer=optimizer, metrics=metrics)\n",
    "hist = network.fit(X_train, Y_train, batch_size=X_train.shape[0], epochs=epochs, verbose=0,\n",
    "                 validation_data=(X_test, Y_test), shuffle=False)"
   ]
  },
  {
   "cell_type": "code",
   "execution_count": 15,
   "metadata": {},
   "outputs": [],
   "source": [
    "# Save network model to file\n",
    "# network.save(\"{}_model.h5\".format(model_name))\n",
    "\n",
    "# Save train history to file\n",
    "# with open(\"{}_trainHistoryDict.pickle\".format(model_name), \"wb\") as file_obj:\n",
    "#     pickle.dump(hist.history, file_obj)"
   ]
  },
  {
   "cell_type": "code",
   "execution_count": 16,
   "metadata": {},
   "outputs": [
    {
     "data": {
      "image/png": "[encoded data removed]",
      "text/plain": [
       "<Figure size 432x288 with 1 Axes>"
      ]
     },
     "metadata": {
      "needs_background": "light"
     },
     "output_type": "display_data"
    }
   ],
   "source": [
    "# Plot training & validation loss values\n",
    "plt.plot(hist.history['loss'])\n",
    "plt.plot(hist.history['val_loss'])\n",
    "plt.title('Model loss')\n",
    "plt.ylabel('Loss')\n",
    "plt.xlabel('Epoch')\n",
    "plt.legend(['Train', 'Test'], loc='upper right');\n",
    "# plt.savefig(\"{}_learning_curve.png\".format(model_name)"
   ]
  },
  {
   "cell_type": "code",
   "execution_count": 17,
   "metadata": {},
   "outputs": [
    {
     "name": "stdout",
     "output_type": "stream",
     "text": [
      "Mean absolute percentage error (split1): 13.58431339263916%\n",
      "Mean absolute percentage error (split2): 14.404219627380371%\n",
      "Mean absolute percentage error (split3): 20.077415466308594%\n",
      "Mean absolute percentage error (split4): 14.327850341796875%\n",
      "Mean absolute percentage error (split5): 15.544496536254883%\n",
      "\n",
      "Average percentage error and std: 15.587658882141113% (+/- 2.330700159072876%)\n",
      "\n",
      "Mean absolute percentage error for every component:\n",
      "[16.61306915 11.15898115 12.55840097 22.0201849 ]\n"
     ]
    }
   ],
   "source": [
    "# K-Fold with the same hyperparameters\n",
    "kfold = KFold(n_splits=5, shuffle=True, random_state=0)\n",
    "cvscores = []\n",
    "component_cvscores = []\n",
    "split = 1\n",
    "\n",
    "for train_index, test_index in kfold.split(X, Y):\n",
    "    \n",
    "    network = Sequential([\n",
    "        Dense(25, activation=tf.nn.relu, input_shape=(5,)),\n",
    "        Dense(20, activation=tf.nn.relu),\n",
    "        Dense(15, activation=tf.nn.relu),\n",
    "        Dense(10, activation=tf.nn.relu),\n",
    "        Dense( 4, activation=tf.nn.sigmoid)\n",
    "    ])\n",
    "        \n",
    "    network.compile(loss=loss, optimizer=optimizer, metrics=metrics)\n",
    "    network.fit(X[train_index], Y[train_index], epochs=epochs,\n",
    "              validation_split = 0.0, batch_size=X[train_index].shape[0], shuffle=False, verbose=0)\n",
    "    scores = network.evaluate(X[test_index], Y[test_index], verbose=0)\n",
    "    Y_pred = network.predict(X[test_index])\n",
    "    component_cvscores.append(np.mean(np.absolute(Y_pred - Y[test_index]) / Y[test_index]*100, axis=0))\n",
    "    print(\"Mean absolute percentage error (split{0}): {1}%\".format(split, scores[1]))\n",
    "    cvscores.append(scores[1])\n",
    "    split += 1\n",
    "\n",
    "print(\"\\nAverage percentage error and std: {0}% (+/- {1}%)\".format(np.mean(cvscores), np.std(cvscores))) \n",
    "print(\"\\nMean absolute percentage error for every component:\", np.mean(component_cvscores, axis = 0), sep=\"\\n\")"
   ]
  },
  {
   "cell_type": "raw",
   "metadata": {},
   "source": [
    "model = Sequential([\n",
    "        Dense(10, activation=tf.nn.relu, input_shape=(5,)),\n",
    "        Dense(15, activation=tf.nn.relu),\n",
    "        Dense(20, activation=tf.nn.relu),\n",
    "        Dense(25, activation=tf.nn.relu),\n",
    "        Dense(30, activation=tf.nn.relu),\n",
    "        Dense(25, activation=tf.nn.relu),\n",
    "        Dense(20, activation=tf.nn.relu),\n",
    "        Dense(15, activation=tf.nn.relu),\n",
    "        Dense(10, activation=tf.nn.relu),\n",
    "        Dense( 4, activation=tf.nn.sigmoid)\n",
    "    ])\n",
    "    \n",
    "network = Sequential([\n",
    "    Dense(25, activation=tf.nn.relu, input_shape=(5,)),\n",
    "    Dense(20, activation=tf.nn.relu),\n",
    "    Dense(15, activation=tf.nn.relu),\n",
    "    Dense(10, activation=tf.nn.relu),\n",
    "    Dense( 4, activation=tf.nn.sigmoid)\n",
    "])\n",
    "\n",
    "model = Sequential([\n",
    "    Dense(9, activation=tf.nn.relu, input_shape=(5,)),\n",
    "    Dense(11, activation=tf.nn.relu),\n",
    "    Dense(13, activation=tf.nn.relu),\n",
    "    Dense(15, activation=tf.nn.relu),\n",
    "    Dense(13, activation=tf.nn.relu),\n",
    "    Dense(9, activation=tf.nn.relu),\n",
    "    Dense(4, activation=tf.nn.sigmoid)\n",
    "])"
   ]
  },
  {
   "cell_type": "code",
   "execution_count": null,
   "metadata": {},
   "outputs": [],
   "source": []
  }
 ],
 "metadata": {
  "kernelspec": {
   "display_name": "Python 3",
   "language": "python",
   "name": "python3"
  },
  "language_info": {
   "codemirror_mode": {
    "name": "ipython",
    "version": 3
   },
   "file_extension": ".py",
   "mimetype": "text/x-python",
   "name": "python",
   "nbconvert_exporter": "python",
   "pygments_lexer": "ipython3",
   "version": "3.6.10"
  }
 },
 "nbformat": 4,
 "nbformat_minor": 2
}
